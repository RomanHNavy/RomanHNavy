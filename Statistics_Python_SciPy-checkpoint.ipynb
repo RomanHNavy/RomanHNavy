{
 "cells": [
  {
   "cell_type": "markdown",
   "id": "c2526b73",
   "metadata": {},
   "source": [
    "This dataset was obtained from data.world.com (Heart Disease Prediction). It was downloaded via Excel. The data was then cleaned. The Gender and Chest Pain Type column initially had numbers, these were replaced with the correct values using =IF and (highlight) CTRL+F functions. Converting what would have been viewed as Quantitative variables into Categorical Variables. (This text was written using the 'Markdown' tab)"
   ]
  },
  {
   "cell_type": "code",
   "execution_count": 75,
   "id": "2416ea70",
   "metadata": {},
   "outputs": [],
   "source": [
    "import pandas as pd\n",
    "import numpy as np\n",
    "import matplotlib.pyplot as plt\n",
    "import seaborn as sns\n",
    "import random"
   ]
  },
  {
   "cell_type": "code",
   "execution_count": 49,
   "id": "766d5e27",
   "metadata": {},
   "outputs": [
    {
     "data": {
      "text/plain": [
       "'C:\\\\Users\\\\Team Knowhow\\\\Documents'"
      ]
     },
     "execution_count": 49,
     "metadata": {},
     "output_type": "execute_result"
    }
   ],
   "source": [
    "import os\n",
    "os.getcwd()"
   ]
  },
  {
   "cell_type": "code",
   "execution_count": 50,
   "id": "4d9321e6",
   "metadata": {},
   "outputs": [
    {
     "data": {
      "text/plain": [
       "'C:\\\\Users\\\\Team Knowhow\\\\Documents'"
      ]
     },
     "execution_count": 50,
     "metadata": {},
     "output_type": "execute_result"
    }
   ],
   "source": [
    "os.chdir('C:\\\\Users\\\\Team Knowhow\\\\Documents')\n",
    "os.getcwd()"
   ]
  },
  {
   "cell_type": "code",
   "execution_count": 51,
   "id": "57031df2",
   "metadata": {},
   "outputs": [
    {
     "name": "stdout",
     "output_type": "stream",
     "text": [
      "   Age  Gender   Chest pain type   BP  Cholesterol  FBS over 120  EKG results  \\\n",
      "0   70    Male      asymptomatic  130          322             0            2   \n",
      "1   67  Female  non-anginal pain  115          564             0            2   \n",
      "\n",
      "   Max HR  Exercise angina  ST depression  Slope of ST  \\\n",
      "0     109                0            2.4            2   \n",
      "1     160                0            1.6            2   \n",
      "\n",
      "   Number of vessels fluro  Thallium Heart Disease  \n",
      "0                        3         3      Presence  \n",
      "1                        0         7       Absence  \n"
     ]
    }
   ],
   "source": [
    "heart = pd.read_csv('Heart_Disease_Prediction.csv')\n",
    "print(heart.head(2))"
   ]
  },
  {
   "cell_type": "code",
   "execution_count": 52,
   "id": "bec3574e",
   "metadata": {},
   "outputs": [
    {
     "name": "stdout",
     "output_type": "stream",
     "text": [
      "<class 'pandas.core.frame.DataFrame'>\n",
      "RangeIndex: 270 entries, 0 to 269\n",
      "Data columns (total 14 columns):\n",
      " #   Column                   Non-Null Count  Dtype  \n",
      "---  ------                   --------------  -----  \n",
      " 0   Age                      270 non-null    int64  \n",
      " 1   Gender                   270 non-null    object \n",
      " 2   Chest pain type          270 non-null    object \n",
      " 3   BP                       270 non-null    int64  \n",
      " 4   Cholesterol              270 non-null    int64  \n",
      " 5   FBS over 120             270 non-null    int64  \n",
      " 6   EKG results              270 non-null    int64  \n",
      " 7   Max HR                   270 non-null    int64  \n",
      " 8   Exercise angina          270 non-null    int64  \n",
      " 9   ST depression            270 non-null    float64\n",
      " 10  Slope of ST              270 non-null    int64  \n",
      " 11  Number of vessels fluro  270 non-null    int64  \n",
      " 12  Thallium                 270 non-null    int64  \n",
      " 13  Heart Disease            270 non-null    object \n",
      "dtypes: float64(1), int64(10), object(3)\n",
      "memory usage: 29.7+ KB\n"
     ]
    }
   ],
   "source": [
    "heart.info()"
   ]
  },
  {
   "cell_type": "code",
   "execution_count": 53,
   "id": "91d2afae",
   "metadata": {},
   "outputs": [
    {
     "name": "stdout",
     "output_type": "stream",
     "text": [
      "['Presence' 'Absence']\n"
     ]
    }
   ],
   "source": [
    "#Look at the unqiue values in a DataFrame column\n",
    "print(heart['Heart Disease'].unique())"
   ]
  },
  {
   "cell_type": "code",
   "execution_count": 54,
   "id": "232f2aec",
   "metadata": {},
   "outputs": [],
   "source": [
    "#We will create two new DF one with and one without HD.\n",
    "heart_dis_abs = heart[heart['Heart Disease'] == \"Absence\"]\n",
    "heart_dis_pre = heart[heart['Heart Disease'] == \"Presence\"]"
   ]
  },
  {
   "cell_type": "code",
   "execution_count": 55,
   "id": "08ba1ff8",
   "metadata": {},
   "outputs": [
    {
     "name": "stdout",
     "output_type": "stream",
     "text": [
      "The avearge Blood Pressure for people without HD in this dataset is: 128.86666666666667\n"
     ]
    },
    {
     "data": {
      "image/png": "[encoded data removed]",
      "text/plain": [
       "<Figure size 432x288 with 1 Axes>"
      ]
     },
     "metadata": {
      "needs_background": "light"
     },
     "output_type": "display_data"
    }
   ],
   "source": [
    "average_bp_abs = np.mean(heart_dis_abs['BP'])\n",
    "print(\"The avearge Blood Pressure for people without HD in this dataset is: \" + str(average_bp_abs))\n",
    "plt.hist(heart_dis_abs['BP'], bins=10)\n",
    "plt.title(\"BP: Blood Pressure without Heart Disease\")\n",
    "plt.xlabel(\"BP\")\n",
    "plt.ylabel(\"Count\")\n",
    "plt.axvline(average_bp_abs, color='r', linestyle='solid', linewidth=2, label='Mean')\n",
    "plt.show()"
   ]
  },
  {
   "cell_type": "code",
   "execution_count": 56,
   "id": "8a215171",
   "metadata": {},
   "outputs": [
    {
     "name": "stdout",
     "output_type": "stream",
     "text": [
      "The avearge Blood Pressure for people with HD in this dataset is: 134.44166666666666\n"
     ]
    },
    {
     "data": {
      "image/png": "[encoded data removed]",
      "text/plain": [
       "<Figure size 432x288 with 1 Axes>"
      ]
     },
     "metadata": {
      "needs_background": "light"
     },
     "output_type": "display_data"
    }
   ],
   "source": [
    "average_bp_pre = np.mean(heart_dis_pre['BP'])\n",
    "print(\"The avearge Blood Pressure for people with HD in this dataset is: \" + str(average_bp_pre))\n",
    "plt.hist(heart_dis_pre['BP'], bins=10)\n",
    "plt.title(\"BP: Blood Pressure with Heart Disease\")\n",
    "plt.xlabel(\"BP\")\n",
    "plt.ylabel(\"Count\")\n",
    "plt.axvline(average_bp_pre, color='r', linestyle='solid', linewidth=2, label='Mean')\n",
    "plt.show()"
   ]
  },
  {
   "cell_type": "code",
   "execution_count": 57,
   "id": "536ac57a",
   "metadata": {},
   "outputs": [
    {
     "data": {
      "image/png": "[encoded data removed]",
      "text/plain": [
       "<Figure size 432x288 with 1 Axes>"
      ]
     },
     "metadata": {
      "needs_background": "light"
     },
     "output_type": "display_data"
    }
   ],
   "source": [
    "#We can see that the histogram is Positive Right Skewed. Thus, the Mean > Median > Mode \n",
    "#If the data set's lower bounds are extremely low relative to the rest of the data, this will cause the data to skew right.\n",
    "\n",
    "#Overlapping Histograms\n",
    "plt.hist(heart_dis_pre['BP'], color='Green', density=True, alpha=0.4, bins=10, label='HD Presence')\n",
    "plt.hist(heart_dis_abs['BP'], color='Red', density=True, alpha=0.4, bins=10, label='HD Absence')\n",
    "plt.title(\"Overlapping Histograms to compate the BP for thioose with and without Heart Disease.\")\n",
    "plt.legend()\n",
    "plt.show()"
   ]
  },
  {
   "cell_type": "code",
   "execution_count": 58,
   "id": "189cb860",
   "metadata": {},
   "outputs": [
    {
     "data": {
      "image/png": "[encoded data removed]",
      "text/plain": [
       "<Figure size 432x288 with 1 Axes>"
      ]
     },
     "metadata": {
      "needs_background": "light"
     },
     "output_type": "display_data"
    }
   ],
   "source": [
    "#Use Boxplots to quickly compare the Blood Pressure for those with and without Heart Disease.\n",
    "sns.boxplot(data=heart, x='Heart Disease', y='BP')\n",
    "plt.title(\"A Boxplot to compare the Blood Pressure of those with and without Heart Disease\")\n",
    "plt.show()"
   ]
  },
  {
   "cell_type": "code",
   "execution_count": 59,
   "id": "b16bf2e1",
   "metadata": {},
   "outputs": [
    {
     "data": {
      "image/png": "[encoded data removed]",
      "text/plain": [
       "<Figure size 432x288 with 1 Axes>"
      ]
     },
     "metadata": {
      "needs_background": "light"
     },
     "output_type": "display_data"
    }
   ],
   "source": [
    "sns.boxplot(data=heart, x='Heart Disease', y='Cholesterol')\n",
    "plt.title(\"A Boxplot to compare the Cholesterol of those with and without Heart Disease\")\n",
    "plt.show()"
   ]
  },
  {
   "cell_type": "code",
   "execution_count": 60,
   "id": "307a5b7d",
   "metadata": {},
   "outputs": [
    {
     "data": {
      "image/png": "[encoded data removed]",
      "text/plain": [
       "<Figure size 432x288 with 1 Axes>"
      ]
     },
     "metadata": {
      "needs_background": "light"
     },
     "output_type": "display_data"
    }
   ],
   "source": [
    "sns.boxplot(data=heart, x='Heart Disease', y='Max HR')\n",
    "plt.title(\"A Boxplot to compare the Max Heart Rate of those with and without Heart Disease\")\n",
    "plt.show()"
   ]
  },
  {
   "cell_type": "code",
   "execution_count": 72,
   "id": "ba149786",
   "metadata": {},
   "outputs": [
    {
     "data": {
      "text/html": [
       "<div>\n",
       "<style scoped>\n",
       "    .dataframe tbody tr th:only-of-type {\n",
       "        vertical-align: middle;\n",
       "    }\n",
       "\n",
       "    .dataframe tbody tr th {\n",
       "        vertical-align: top;\n",
       "    }\n",
       "\n",
       "    .dataframe thead th {\n",
       "        text-align: right;\n",
       "    }\n",
       "</style>\n",
       "<table border=\"1\" class=\"dataframe\">\n",
       "  <thead>\n",
       "    <tr style=\"text-align: right;\">\n",
       "      <th></th>\n",
       "      <th>Age</th>\n",
       "      <th>BP</th>\n",
       "      <th>Cholesterol</th>\n",
       "      <th>FBS over 120</th>\n",
       "      <th>EKG results</th>\n",
       "      <th>Max HR</th>\n",
       "      <th>Exercise angina</th>\n",
       "      <th>ST depression</th>\n",
       "      <th>Slope of ST</th>\n",
       "      <th>Number of vessels fluro</th>\n",
       "      <th>Thallium</th>\n",
       "    </tr>\n",
       "    <tr>\n",
       "      <th>Gender</th>\n",
       "      <th></th>\n",
       "      <th></th>\n",
       "      <th></th>\n",
       "      <th></th>\n",
       "      <th></th>\n",
       "      <th></th>\n",
       "      <th></th>\n",
       "      <th></th>\n",
       "      <th></th>\n",
       "      <th></th>\n",
       "      <th></th>\n",
       "    </tr>\n",
       "  </thead>\n",
       "  <tbody>\n",
       "    <tr>\n",
       "      <th>Female</th>\n",
       "      <td>55.678161</td>\n",
       "      <td>132.965517</td>\n",
       "      <td>264.747126</td>\n",
       "      <td>0.126437</td>\n",
       "      <td>0.965517</td>\n",
       "      <td>152.229885</td>\n",
       "      <td>0.206897</td>\n",
       "      <td>0.888506</td>\n",
       "      <td>1.540230</td>\n",
       "      <td>0.551724</td>\n",
       "      <td>3.597701</td>\n",
       "    </tr>\n",
       "    <tr>\n",
       "      <th>Male</th>\n",
       "      <td>53.841530</td>\n",
       "      <td>130.573770</td>\n",
       "      <td>242.486339</td>\n",
       "      <td>0.158470</td>\n",
       "      <td>1.049180</td>\n",
       "      <td>148.464481</td>\n",
       "      <td>0.387978</td>\n",
       "      <td>1.126776</td>\n",
       "      <td>1.606557</td>\n",
       "      <td>0.726776</td>\n",
       "      <td>5.218579</td>\n",
       "    </tr>\n",
       "  </tbody>\n",
       "</table>\n",
       "</div>"
      ],
      "text/plain": [
       "              Age          BP  Cholesterol  FBS over 120  EKG results  \\\n",
       "Gender                                                                  \n",
       "Female  55.678161  132.965517   264.747126      0.126437     0.965517   \n",
       "Male    53.841530  130.573770   242.486339      0.158470     1.049180   \n",
       "\n",
       "            Max HR  Exercise angina  ST depression  Slope of ST  \\\n",
       "Gender                                                            \n",
       "Female  152.229885         0.206897       0.888506     1.540230   \n",
       "Male    148.464481         0.387978       1.126776     1.606557   \n",
       "\n",
       "        Number of vessels fluro  Thallium  \n",
       "Gender                                     \n",
       "Female                 0.551724  3.597701  \n",
       "Male                   0.726776  5.218579  "
      ]
     },
     "execution_count": 72,
     "metadata": {},
     "output_type": "execute_result"
    }
   ],
   "source": [
    "#groupby function for summary statistics, which automatically calculates the mean for all quantitative variables.\n",
    "heart.groupby('Gender').mean()"
   ]
  },
  {
   "cell_type": "code",
   "execution_count": 73,
   "id": "7eed86b9",
   "metadata": {},
   "outputs": [
    {
     "data": {
      "text/html": [
       "<div>\n",
       "<style scoped>\n",
       "    .dataframe tbody tr th:only-of-type {\n",
       "        vertical-align: middle;\n",
       "    }\n",
       "\n",
       "    .dataframe tbody tr th {\n",
       "        vertical-align: top;\n",
       "    }\n",
       "\n",
       "    .dataframe thead th {\n",
       "        text-align: right;\n",
       "    }\n",
       "</style>\n",
       "<table border=\"1\" class=\"dataframe\">\n",
       "  <thead>\n",
       "    <tr style=\"text-align: right;\">\n",
       "      <th></th>\n",
       "      <th>Age</th>\n",
       "      <th>BP</th>\n",
       "      <th>Cholesterol</th>\n",
       "      <th>FBS over 120</th>\n",
       "      <th>EKG results</th>\n",
       "      <th>Max HR</th>\n",
       "      <th>Exercise angina</th>\n",
       "      <th>ST depression</th>\n",
       "      <th>Slope of ST</th>\n",
       "      <th>Number of vessels fluro</th>\n",
       "      <th>Thallium</th>\n",
       "    </tr>\n",
       "    <tr>\n",
       "      <th>Gender</th>\n",
       "      <th></th>\n",
       "      <th></th>\n",
       "      <th></th>\n",
       "      <th></th>\n",
       "      <th></th>\n",
       "      <th></th>\n",
       "      <th></th>\n",
       "      <th></th>\n",
       "      <th></th>\n",
       "      <th></th>\n",
       "      <th></th>\n",
       "    </tr>\n",
       "  </thead>\n",
       "  <tbody>\n",
       "    <tr>\n",
       "      <th>Female</th>\n",
       "      <td>57</td>\n",
       "      <td>132</td>\n",
       "      <td>263</td>\n",
       "      <td>0</td>\n",
       "      <td>0</td>\n",
       "      <td>158</td>\n",
       "      <td>0</td>\n",
       "      <td>0.6</td>\n",
       "      <td>1</td>\n",
       "      <td>0</td>\n",
       "      <td>3</td>\n",
       "    </tr>\n",
       "    <tr>\n",
       "      <th>Male</th>\n",
       "      <td>54</td>\n",
       "      <td>130</td>\n",
       "      <td>239</td>\n",
       "      <td>0</td>\n",
       "      <td>2</td>\n",
       "      <td>150</td>\n",
       "      <td>0</td>\n",
       "      <td>0.9</td>\n",
       "      <td>2</td>\n",
       "      <td>0</td>\n",
       "      <td>6</td>\n",
       "    </tr>\n",
       "  </tbody>\n",
       "</table>\n",
       "</div>"
      ],
      "text/plain": [
       "        Age   BP  Cholesterol  FBS over 120  EKG results  Max HR  \\\n",
       "Gender                                                             \n",
       "Female   57  132          263             0            0     158   \n",
       "Male     54  130          239             0            2     150   \n",
       "\n",
       "        Exercise angina  ST depression  Slope of ST  Number of vessels fluro  \\\n",
       "Gender                                                                         \n",
       "Female                0            0.6            1                        0   \n",
       "Male                  0            0.9            2                        0   \n",
       "\n",
       "        Thallium  \n",
       "Gender            \n",
       "Female         3  \n",
       "Male           6  "
      ]
     },
     "execution_count": 73,
     "metadata": {},
     "output_type": "execute_result"
    }
   ],
   "source": [
    "heart.groupby('Gender').median()"
   ]
  },
  {
   "cell_type": "code",
   "execution_count": 63,
   "id": "25882517",
   "metadata": {},
   "outputs": [
    {
     "data": {
      "text/html": [
       "<div>\n",
       "<style scoped>\n",
       "    .dataframe tbody tr th:only-of-type {\n",
       "        vertical-align: middle;\n",
       "    }\n",
       "\n",
       "    .dataframe tbody tr th {\n",
       "        vertical-align: top;\n",
       "    }\n",
       "\n",
       "    .dataframe thead th {\n",
       "        text-align: right;\n",
       "    }\n",
       "</style>\n",
       "<table border=\"1\" class=\"dataframe\">\n",
       "  <thead>\n",
       "    <tr style=\"text-align: right;\">\n",
       "      <th></th>\n",
       "      <th>Age</th>\n",
       "      <th>BP</th>\n",
       "      <th>Cholesterol</th>\n",
       "      <th>FBS over 120</th>\n",
       "      <th>EKG results</th>\n",
       "      <th>Max HR</th>\n",
       "      <th>Exercise angina</th>\n",
       "      <th>ST depression</th>\n",
       "      <th>Slope of ST</th>\n",
       "      <th>Number of vessels fluro</th>\n",
       "      <th>Thallium</th>\n",
       "    </tr>\n",
       "    <tr>\n",
       "      <th>Heart Disease</th>\n",
       "      <th></th>\n",
       "      <th></th>\n",
       "      <th></th>\n",
       "      <th></th>\n",
       "      <th></th>\n",
       "      <th></th>\n",
       "      <th></th>\n",
       "      <th></th>\n",
       "      <th></th>\n",
       "      <th></th>\n",
       "      <th></th>\n",
       "    </tr>\n",
       "  </thead>\n",
       "  <tbody>\n",
       "    <tr>\n",
       "      <th>Absence</th>\n",
       "      <td>52.706667</td>\n",
       "      <td>128.866667</td>\n",
       "      <td>244.213333</td>\n",
       "      <td>0.153333</td>\n",
       "      <td>0.860</td>\n",
       "      <td>158.333333</td>\n",
       "      <td>0.153333</td>\n",
       "      <td>0.622667</td>\n",
       "      <td>1.400000</td>\n",
       "      <td>0.286667</td>\n",
       "      <td>3.786667</td>\n",
       "    </tr>\n",
       "    <tr>\n",
       "      <th>Presence</th>\n",
       "      <td>56.591667</td>\n",
       "      <td>134.441667</td>\n",
       "      <td>256.466667</td>\n",
       "      <td>0.141667</td>\n",
       "      <td>1.225</td>\n",
       "      <td>138.858333</td>\n",
       "      <td>0.550000</td>\n",
       "      <td>1.584167</td>\n",
       "      <td>1.816667</td>\n",
       "      <td>1.150000</td>\n",
       "      <td>5.833333</td>\n",
       "    </tr>\n",
       "  </tbody>\n",
       "</table>\n",
       "</div>"
      ],
      "text/plain": [
       "                     Age          BP  Cholesterol  FBS over 120  EKG results  \\\n",
       "Heart Disease                                                                  \n",
       "Absence        52.706667  128.866667   244.213333      0.153333        0.860   \n",
       "Presence       56.591667  134.441667   256.466667      0.141667        1.225   \n",
       "\n",
       "                   Max HR  Exercise angina  ST depression  Slope of ST  \\\n",
       "Heart Disease                                                            \n",
       "Absence        158.333333         0.153333       0.622667     1.400000   \n",
       "Presence       138.858333         0.550000       1.584167     1.816667   \n",
       "\n",
       "               Number of vessels fluro  Thallium  \n",
       "Heart Disease                                     \n",
       "Absence                       0.286667  3.786667  \n",
       "Presence                      1.150000  5.833333  "
      ]
     },
     "execution_count": 63,
     "metadata": {},
     "output_type": "execute_result"
    }
   ],
   "source": [
    "heart.groupby('Heart Disease').mean()"
   ]
  },
  {
   "cell_type": "code",
   "execution_count": 64,
   "id": "179576e5",
   "metadata": {},
   "outputs": [],
   "source": [
    "#Hypothesis Test, 2-Sample-T-Tests are the most commonly used hypothesis tests.\n",
    "\n",
    "#We will use the 3rd boxplot graph to guide us. The difference between the Max HR shown for those with and without HD. \n",
    "#Is this true of the enire population?\n"
   ]
  },
  {
   "cell_type": "code",
   "execution_count": 65,
   "id": "2bca22d4",
   "metadata": {},
   "outputs": [
    {
     "name": "stdout",
     "output_type": "stream",
     "text": [
      "NULL/H0: There is NO difference in the mean Cholesterol level (among patient who do and do not have Heart Disease).\n",
      "ALTERNATIVE/H1: There IS a difference in the mean Cholesterol (among patient who do and do not have Heart Disease).\n"
     ]
    }
   ],
   "source": [
    "print(\"NULL/H0: There is NO difference in the mean Cholesterol level (among patient who do and do not have Heart Disease).\")\n",
    "print(\"ALTERNATIVE/H1: There IS a difference in the mean Cholesterol (among patient who do and do not have Heart Disease).\")"
   ]
  },
  {
   "cell_type": "code",
   "execution_count": 66,
   "id": "168aea37",
   "metadata": {},
   "outputs": [
    {
     "name": "stdout",
     "output_type": "stream",
     "text": [
      "Another way of saying the NULL: true mean of cholesterol for people with hd - true mean of cholesterol for people without hr = 0\n"
     ]
    }
   ],
   "source": [
    "print(\"Another way of saying the NULL: true mean of cholesterol for people with hd - true mean of cholesterol for people without hr = 0\")"
   ]
  },
  {
   "cell_type": "code",
   "execution_count": 67,
   "id": "7c5ea8af",
   "metadata": {},
   "outputs": [
    {
     "data": {
      "text/html": [
       "<div>\n",
       "<style scoped>\n",
       "    .dataframe tbody tr th:only-of-type {\n",
       "        vertical-align: middle;\n",
       "    }\n",
       "\n",
       "    .dataframe tbody tr th {\n",
       "        vertical-align: top;\n",
       "    }\n",
       "\n",
       "    .dataframe thead th {\n",
       "        text-align: right;\n",
       "    }\n",
       "</style>\n",
       "<table border=\"1\" class=\"dataframe\">\n",
       "  <thead>\n",
       "    <tr style=\"text-align: right;\">\n",
       "      <th></th>\n",
       "      <th>Cholesterol</th>\n",
       "      <th>Heart Disease</th>\n",
       "    </tr>\n",
       "  </thead>\n",
       "  <tbody>\n",
       "    <tr>\n",
       "      <th>0</th>\n",
       "      <td>322</td>\n",
       "      <td>Presence</td>\n",
       "    </tr>\n",
       "    <tr>\n",
       "      <th>1</th>\n",
       "      <td>564</td>\n",
       "      <td>Absence</td>\n",
       "    </tr>\n",
       "    <tr>\n",
       "      <th>2</th>\n",
       "      <td>261</td>\n",
       "      <td>Presence</td>\n",
       "    </tr>\n",
       "    <tr>\n",
       "      <th>3</th>\n",
       "      <td>263</td>\n",
       "      <td>Absence</td>\n",
       "    </tr>\n",
       "    <tr>\n",
       "      <th>4</th>\n",
       "      <td>269</td>\n",
       "      <td>Absence</td>\n",
       "    </tr>\n",
       "  </tbody>\n",
       "</table>\n",
       "</div>"
      ],
      "text/plain": [
       "   Cholesterol Heart Disease\n",
       "0          322      Presence\n",
       "1          564       Absence\n",
       "2          261      Presence\n",
       "3          263       Absence\n",
       "4          269       Absence"
      ]
     },
     "execution_count": 67,
     "metadata": {},
     "output_type": "execute_result"
    }
   ],
   "source": [
    "heart[['Cholesterol', 'Heart Disease']].head()"
   ]
  },
  {
   "cell_type": "code",
   "execution_count": 68,
   "id": "d829de20",
   "metadata": {},
   "outputs": [
    {
     "name": "stdout",
     "output_type": "stream",
     "text": [
      "0.05273888557034281\n"
     ]
    }
   ],
   "source": [
    "#heart_dis_abs heart_dis_pre\n",
    "from scipy.stats import ttest_ind\n",
    "tstat, pval = ttest_ind(heart_dis_abs[\"Cholesterol\"], heart_dis_pre[\"Cholesterol\"])\n",
    "print(pval)"
   ]
  },
  {
   "cell_type": "code",
   "execution_count": 69,
   "id": "33f73412",
   "metadata": {},
   "outputs": [
    {
     "name": "stdout",
     "output_type": "stream",
     "text": [
      "The P-Val is > 0.05, thus we accept the Null and reject the Alternative.\n"
     ]
    }
   ],
   "source": [
    "print(\"The P-Val is > 0.05, thus we accept the Null and reject the Alternative.\")"
   ]
  },
  {
   "cell_type": "code",
   "execution_count": 70,
   "id": "a589de9f",
   "metadata": {},
   "outputs": [
    {
     "data": {
      "image/png": "[encoded data removed]",
      "text/plain": [
       "<Figure size 432x288 with 1 Axes>"
      ]
     },
     "metadata": {
      "needs_background": "light"
     },
     "output_type": "display_data"
    }
   ],
   "source": [
    "plt.hist(heart_dis_abs[\"Cholesterol\"])\n",
    "plt.title(\"Histogram of Cholesterol levels for those without HD\")\n",
    "plt.show()"
   ]
  },
  {
   "cell_type": "code",
   "execution_count": 71,
   "id": "03717e8c",
   "metadata": {},
   "outputs": [
    {
     "data": {
      "image/png": "[encoded data removed]",
      "text/plain": [
       "<Figure size 432x288 with 1 Axes>"
      ]
     },
     "metadata": {
      "needs_background": "light"
     },
     "output_type": "display_data"
    }
   ],
   "source": [
    "plt.hist(heart_dis_pre[\"Cholesterol\"])\n",
    "plt.title(\"Histogram of Cholesterol levels for those with HD\")\n",
    "plt.show()"
   ]
  },
  {
   "cell_type": "code",
   "execution_count": 74,
   "id": "2805b4d8",
   "metadata": {},
   "outputs": [
    {
     "data": {
      "text/plain": [
       "array(['asymptomatic', 'non-anginal pain', 'atypical angina',\n",
       "       'typical angina'], dtype=object)"
      ]
     },
     "execution_count": 74,
     "metadata": {},
     "output_type": "execute_result"
    }
   ],
   "source": [
    "heart['Chest pain type'].unique()"
   ]
  },
  {
   "cell_type": "code",
   "execution_count": 85,
   "id": "b31dbe64",
   "metadata": {},
   "outputs": [],
   "source": [
    "#ANOVA test on Chest Pain Type and Max HR\n",
    "\n",
    "maxhr_asymptomatic = heart['Max HR'][heart[\"Chest pain type\"] == 'asymptomatic']\n",
    "maxhr_non_anginal = heart['Max HR'][heart[\"Chest pain type\"] == \"non-anginal pain\"]\n",
    "maxhr_atypical_angina = heart['Max HR'][heart[\"Chest pain type\"] == \"atypical angina\"]\n",
    "maxhr_typical_angina = heart['Max HR'][heart[\"Chest pain type\"] == \"typical angina\"]\n",
    "                             "
   ]
  },
  {
   "cell_type": "code",
   "execution_count": 87,
   "id": "aaad1ac5",
   "metadata": {},
   "outputs": [
    {
     "name": "stdout",
     "output_type": "stream",
     "text": [
      "13    145\n",
      "18    144\n",
      "19    178\n",
      "37    125\n",
      "63    171\n",
      "Name: Max HR, dtype: int64\n"
     ]
    }
   ],
   "source": [
    "print(maxhr_typical_angina.head())"
   ]
  },
  {
   "cell_type": "code",
   "execution_count": 89,
   "id": "e99f0575",
   "metadata": {},
   "outputs": [
    {
     "name": "stdout",
     "output_type": "stream",
     "text": [
      "P-Value for ANOVA is 4.219911049988753e-08\n"
     ]
    }
   ],
   "source": [
    "from scipy.stats import f_oneway\n",
    "\n",
    "fstat, pval = f_oneway(maxhr_asymptomatic, maxhr_non_anginal, maxhr_atypical_angina, maxhr_typical_angina)\n",
    "print(\"P-Value for ANOVA is \" + str(pval))"
   ]
  },
  {
   "cell_type": "code",
   "execution_count": 94,
   "id": "79c03382",
   "metadata": {},
   "outputs": [
    {
     "name": "stdout",
     "output_type": "stream",
     "text": [
      "           Multiple Comparison of Means - Tukey HSD, FWER=0.05           \n",
      "=========================================================================\n",
      "     group1           group2      meandiff p-adj   lower    upper  reject\n",
      "-------------------------------------------------------------------------\n",
      "    asymptomatic  atypical angina  20.3461  0.001  10.3667 30.3254   True\n",
      "    asymptomatic non-anginal pain  14.1782  0.001   6.1532 22.2032   True\n",
      "    asymptomatic   typical angina  15.6984 0.0153   2.1993 29.1976   True\n",
      " atypical angina non-anginal pain  -6.1679 0.4484 -16.8949  4.5591  False\n",
      " atypical angina   typical angina  -4.6476 0.8434 -19.9085 10.6133  False\n",
      "non-anginal pain   typical angina   1.5203    0.9 -12.5407 15.5812  False\n",
      "-------------------------------------------------------------------------\n"
     ]
    }
   ],
   "source": [
    "#Following the ANOVA test, which pairs of variables are different.\n",
    "from statsmodels.stats.multicomp import pairwise_tukeyhsd\n",
    "\n",
    "tukey_results = pairwise_tukeyhsd(heart['Max HR'], heart['Chest pain type'], 0.05)\n",
    "print(tukey_results)\n",
    "#If reject is TRUE we conclude that there is a significant difference between those groups."
   ]
  },
  {
   "cell_type": "code",
   "execution_count": 95,
   "id": "3c5200ec",
   "metadata": {},
   "outputs": [],
   "source": [
    "#Chi-Square Test. Are the outcomes of two categorical variables associated?\n",
    "table = pd.crosstab(heart['Gender'], heart['Chest pain type'])"
   ]
  },
  {
   "cell_type": "code",
   "execution_count": 99,
   "id": "e64482d4",
   "metadata": {},
   "outputs": [
    {
     "name": "stdout",
     "output_type": "stream",
     "text": [
      "The P-Value for the Chi2 is 0.10947278040318617\n"
     ]
    }
   ],
   "source": [
    "from scipy.stats import chi2_contingency\n",
    "\n",
    "chi2, pval, dof, expected = chi2_contingency(table)\n",
    "print(\"The P-Value for the Chi2 is \" + str(pval))"
   ]
  },
  {
   "cell_type": "code",
   "execution_count": null,
   "id": "86f66c2f",
   "metadata": {},
   "outputs": [],
   "source": []
  }
 ],
 "metadata": {
  "kernelspec": {
   "display_name": "Python 3",
   "language": "python",
   "name": "python3"
  },
  "language_info": {
   "codemirror_mode": {
    "name": "ipython",
    "version": 3
   },
   "file_extension": ".py",
   "mimetype": "text/x-python",
   "name": "python",
   "nbconvert_exporter": "python",
   "pygments_lexer": "ipython3",
   "version": "3.9.1"
  }
 },
 "nbformat": 4,
 "nbformat_minor": 5
}
